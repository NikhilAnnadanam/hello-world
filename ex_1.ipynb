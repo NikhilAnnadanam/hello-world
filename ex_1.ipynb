{
  "nbformat": 4,
  "nbformat_minor": 0,
  "metadata": {
    "colab": {
      "name": "Untitled1.ipynb",
      "provenance": [],
      "authorship_tag": "ABX9TyM4Mv9aSWtbT9VG+T5mrkzL",
      "include_colab_link": true
    },
    "kernelspec": {
      "name": "python3",
      "display_name": "Python 3"
    }
  },
  "cells": [
    {
      "cell_type": "markdown",
      "metadata": {
        "id": "view-in-github",
        "colab_type": "text"
      },
      "source": [
        "<a href=\"https://colab.research.google.com/github/NikhilAnnadanam/hello-world/blob/master/ex_1.ipynb\" target=\"_parent\"><img src=\"https://colab.research.google.com/assets/colab-badge.svg\" alt=\"Open In Colab\"/></a>"
      ]
    },
    {
      "cell_type": "code",
      "metadata": {
        "id": "A9Z481a4I2eu",
        "colab_type": "code",
        "colab": {}
      },
      "source": [
        "%reload_ext autoreload\n",
        "%autoreload 2\n",
        "%matplotlib inline"
      ],
      "execution_count": 0,
      "outputs": []
    },
    {
      "cell_type": "code",
      "metadata": {
        "id": "J3ArkXTsJMTS",
        "colab_type": "code",
        "colab": {}
      },
      "source": [
        "from fastai import *\n",
        "from fastai.vision import *\n",
        "bs=16"
      ],
      "execution_count": 0,
      "outputs": []
    },
    {
      "cell_type": "code",
      "metadata": {
        "id": "VgpSqTbMJVgG",
        "colab_type": "code",
        "colab": {
          "base_uri": "https://localhost:8080/",
          "height": 51
        },
        "outputId": "754a3b06-bd5d-4407-8f7a-e0f8b8e5d2f1"
      },
      "source": [
        "path = untar_data(URLs.PETS)\n",
        "path"
      ],
      "execution_count": 3,
      "outputs": [
        {
          "output_type": "stream",
          "text": [
            "Downloading https://s3.amazonaws.com/fast-ai-imageclas/oxford-iiit-pet.tgz\n"
          ],
          "name": "stdout"
        },
        {
          "output_type": "display_data",
          "data": {
            "text/html": [
              ""
            ],
            "text/plain": [
              "<IPython.core.display.HTML object>"
            ]
          },
          "metadata": {
            "tags": []
          }
        },
        {
          "output_type": "execute_result",
          "data": {
            "text/plain": [
              "PosixPath('/root/.fastai/data/oxford-iiit-pet')"
            ]
          },
          "metadata": {
            "tags": []
          },
          "execution_count": 3
        }
      ]
    },
    {
      "cell_type": "code",
      "metadata": {
        "id": "he_BRX0SCPVj",
        "colab_type": "code",
        "colab": {
          "base_uri": "https://localhost:8080/",
          "height": 51
        },
        "outputId": "6224ea16-7f64-4cae-db2b-cb9f1fbb0df0"
      },
      "source": [
        "# i want to see what folders (probably) are inside this path that we just downloaded.\n",
        "path.ls()"
      ],
      "execution_count": 4,
      "outputs": [
        {
          "output_type": "execute_result",
          "data": {
            "text/plain": [
              "[PosixPath('/root/.fastai/data/oxford-iiit-pet/annotations'),\n",
              " PosixPath('/root/.fastai/data/oxford-iiit-pet/images')]"
            ]
          },
          "metadata": {
            "tags": []
          },
          "execution_count": 4
        }
      ]
    },
    {
      "cell_type": "code",
      "metadata": {
        "id": "I4B9NH1IDc3f",
        "colab_type": "code",
        "colab": {}
      },
      "source": [
        "#ok, there are two folders - annotations and images... i want to give them names to easily access them in the future.\n",
        "path_anno = path/'annotations'\n",
        "path_img = path/'images'"
      ],
      "execution_count": 0,
      "outputs": []
    },
    {
      "cell_type": "code",
      "metadata": {
        "id": "okM3udeYD5rO",
        "colab_type": "code",
        "colab": {
          "base_uri": "https://localhost:8080/",
          "height": 187
        },
        "outputId": "e7476f01-7968-4569-bcb9-fbcfe7640ba2"
      },
      "source": [
        "# get_image_files() function allows you to get the images inside a path\n",
        "fnames = get_image_files(path_img)\n",
        "fnames[:10]\n"
      ],
      "execution_count": 6,
      "outputs": [
        {
          "output_type": "execute_result",
          "data": {
            "text/plain": [
              "[PosixPath('/root/.fastai/data/oxford-iiit-pet/images/Birman_72.jpg'),\n",
              " PosixPath('/root/.fastai/data/oxford-iiit-pet/images/havanese_195.jpg'),\n",
              " PosixPath('/root/.fastai/data/oxford-iiit-pet/images/leonberger_74.jpg'),\n",
              " PosixPath('/root/.fastai/data/oxford-iiit-pet/images/Ragdoll_219.jpg'),\n",
              " PosixPath('/root/.fastai/data/oxford-iiit-pet/images/keeshond_37.jpg'),\n",
              " PosixPath('/root/.fastai/data/oxford-iiit-pet/images/boxer_127.jpg'),\n",
              " PosixPath('/root/.fastai/data/oxford-iiit-pet/images/english_cocker_spaniel_44.jpg'),\n",
              " PosixPath('/root/.fastai/data/oxford-iiit-pet/images/havanese_30.jpg'),\n",
              " PosixPath('/root/.fastai/data/oxford-iiit-pet/images/leonberger_112.jpg'),\n",
              " PosixPath('/root/.fastai/data/oxford-iiit-pet/images/japanese_chin_147.jpg')]"
            ]
          },
          "metadata": {
            "tags": []
          },
          "execution_count": 6
        }
      ]
    },
    {
      "cell_type": "code",
      "metadata": {
        "id": "hHdUmhTUE9Rc",
        "colab_type": "code",
        "colab": {}
      },
      "source": [
        "np.random.seed(2)\n",
        "pat = r'/([^/]+)_\\d+.jpg$'\n",
        "data = ImageDataBunch.from_name_re(path_img, fnames, pat, ds_tfms=get_transforms(), size=224, bs=bs).normalize(imagenet_stats)\n",
        "data.show_batch(rows=3,figsize=(7,6))\n",
        "              "
      ],
      "execution_count": 0,
      "outputs": []
    },
    {
      "cell_type": "code",
      "metadata": {
        "id": "-1YAs39lI-ci",
        "colab_type": "code",
        "colab": {}
      },
      "source": [
        "learn = ConvLearner(data, models.resnet34, metrics= error_rate)"
      ],
      "execution_count": 0,
      "outputs": []
    },
    {
      "cell_type": "code",
      "metadata": {
        "id": "N0VK4EE2CpB3",
        "colab_type": "code",
        "colab": {}
      },
      "source": [
        "learn.fit_one_cycle(4)"
      ],
      "execution_count": 0,
      "outputs": []
    },
    {
      "cell_type": "code",
      "metadata": {
        "id": "z5_flhqXE_l0",
        "colab_type": "code",
        "colab": {}
      },
      "source": [
        ""
      ],
      "execution_count": 0,
      "outputs": []
    }
  ]
}